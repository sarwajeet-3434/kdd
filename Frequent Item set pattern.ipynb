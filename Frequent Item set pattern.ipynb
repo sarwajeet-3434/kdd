{
 "cells": [
  {
   "cell_type": "code",
   "execution_count": 5,
   "id": "3ae38e58",
   "metadata": {},
   "outputs": [
    {
     "name": "stdout",
     "output_type": "stream",
     "text": [
      "Frequent Itemsets:\n",
      " support itemsets\n",
      "0.777778      (B)\n",
      "0.666667      (A)\n",
      "0.666667      (C)\n",
      "0.444444   (B, A)\n",
      "0.444444   (C, A)\n",
      "0.444444   (C, B)\n",
      "\n",
      "Association Rules:\n",
      "antecedents consequents  antecedent support  consequent support  support  confidence     lift  representativity  leverage  conviction  zhangs_metric  jaccard  certainty  kulczynski\n",
      "        (B)         (A)            0.777778            0.666667 0.444444    0.571429 0.857143               1.0 -0.074074    0.777778      -0.428571 0.444444  -0.285714    0.619048\n",
      "        (A)         (B)            0.666667            0.777778 0.444444    0.666667 0.857143               1.0 -0.074074    0.666667      -0.333333 0.444444  -0.500000    0.619048\n",
      "        (C)         (A)            0.666667            0.666667 0.444444    0.666667 1.000000               1.0  0.000000    1.000000       0.000000 0.500000   0.000000    0.666667\n",
      "        (A)         (C)            0.666667            0.666667 0.444444    0.666667 1.000000               1.0  0.000000    1.000000       0.000000 0.500000   0.000000    0.666667\n",
      "        (C)         (B)            0.666667            0.777778 0.444444    0.666667 0.857143               1.0 -0.074074    0.666667      -0.333333 0.444444  -0.500000    0.619048\n",
      "        (B)         (C)            0.777778            0.666667 0.444444    0.571429 0.857143               1.0 -0.074074    0.777778      -0.428571 0.444444  -0.285714    0.619048\n"
     ]
    }
   ],
   "source": [
    "from mlxtend.preprocessing import TransactionEncoder\n",
    "from mlxtend.frequent_patterns import fpgrowth, association_rules\n",
    "import pandas as pd\n",
    "\n",
    "# Dataset\n",
    "data = {\n",
    "'Transaction': ['T1', 'T2', 'T3', 'T4', 'T5', 'T6', 'T7', 'T8', 'T9'],\n",
    "'Items': [['A', 'B', 'E'],\n",
    "['B', 'D'],\n",
    "['B', 'C'],\n",
    "['A','B', 'D'],\n",
    "['A', 'C'],\n",
    "['B', 'C'],\n",
    "['A', 'C'],\n",
    "['A', 'B', 'C', 'E'],\n",
    "['A', 'B','C'],],\n",
    "}\n",
    "\n",
    "\n",
    "# Convert dataset to transaction format\n",
    "transactions = data['Items']\n",
    "\n",
    "# Initialize TransactionEncoder\n",
    "encoder = TransactionEncoder()\n",
    "\n",
    "# Transform the transaction data into a one-hot encoded DataFrame\n",
    "onehot = encoder.fit_transform(transactions)\n",
    "\n",
    "# Convert one-hot encoded data to DataFrame\n",
    "df = pd.DataFrame(onehot, columns=encoder.columns_)\n",
    "\n",
    "# Find frequent itemsets using FP-Growth\n",
    "frequent_itemsets = fpgrowth(df, min_support=0.33, use_colnames=True)\n",
    "\n",
    "# Find association rules\n",
    "rules = association_rules(frequent_itemsets, metric=\"confidence\", min_threshold=0.5)\n",
    "\n",
    "# Display frequent itemsets and association rules in table format\n",
    "print(\"Frequent Itemsets:\")\n",
    "print(frequent_itemsets.to_string(index=False))\n",
    "print(\"\\nAssociation Rules:\")\n",
    "print(rules.to_string(index=False))"
   ]
  },
  {
   "cell_type": "code",
   "execution_count": null,
   "id": "f741a9bf",
   "metadata": {},
   "outputs": [],
   "source": []
  },
  {
   "cell_type": "code",
   "execution_count": null,
   "id": "ccfeb482",
   "metadata": {},
   "outputs": [],
   "source": []
  }
 ],
 "metadata": {
  "kernelspec": {
   "display_name": "Python 3 (ipykernel)",
   "language": "python",
   "name": "python3"
  },
  "language_info": {
   "codemirror_mode": {
    "name": "ipython",
    "version": 3
   },
   "file_extension": ".py",
   "mimetype": "text/x-python",
   "name": "python",
   "nbconvert_exporter": "python",
   "pygments_lexer": "ipython3",
   "version": "3.12.4"
  }
 },
 "nbformat": 4,
 "nbformat_minor": 5
}
