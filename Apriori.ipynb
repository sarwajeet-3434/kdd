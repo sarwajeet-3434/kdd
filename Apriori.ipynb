{
 "cells": [
  {
   "cell_type": "code",
   "execution_count": 3,
   "id": "13e31b04",
   "metadata": {},
   "outputs": [
    {
     "name": "stdout",
     "output_type": "stream",
     "text": [
      "Collecting apyori\n",
      "  Downloading apyori-1.1.2.tar.gz (8.6 kB)\n",
      "  Preparing metadata (setup.py): started\n",
      "  Preparing metadata (setup.py): finished with status 'done'\n",
      "Building wheels for collected packages: apyori\n",
      "  Building wheel for apyori (setup.py): started\n",
      "  Building wheel for apyori (setup.py): finished with status 'done'\n",
      "  Created wheel for apyori: filename=apyori-1.1.2-py3-none-any.whl size=5976 sha256=57d53f3db452d71bee3fcee45870380e42a5a57c4891819a35485b8155008b4c\n",
      "  Stored in directory: c:\\users\\hp\\appdata\\local\\pip\\cache\\wheels\\7f\\49\\e3\\42c73b19a264de37129fadaa0c52f26cf50e87de08fb9804af\n",
      "Successfully built apyori\n",
      "Installing collected packages: apyori\n",
      "Successfully installed apyori-1.1.2\n"
     ]
    }
   ],
   "source": [
    "!pip install apyori"
   ]
  },
  {
   "cell_type": "code",
   "execution_count": 34,
   "id": "aa0413c5",
   "metadata": {},
   "outputs": [],
   "source": [
    "import pandas as pd\n",
    "from mlxtend.frequent_patterns import apriori, association_rules\n",
    "from mlxtend.preprocessing import TransactionEncoder"
   ]
  },
  {
   "cell_type": "code",
   "execution_count": 37,
   "id": "22ff9c05",
   "metadata": {},
   "outputs": [],
   "source": [
    "\n",
    "# Load Dataset\n",
    "df = pd.read_csv(\"grocery_dataset.csv\", header=None)\n"
   ]
  },
  {
   "cell_type": "code",
   "execution_count": 38,
   "id": "1311916a",
   "metadata": {},
   "outputs": [
    {
     "name": "stdout",
     "output_type": "stream",
     "text": [
      "The store_data has: 301 rows \n",
      "The store data has: 7 columns\n"
     ]
    }
   ],
   "source": [
    "print(f\"The store_data has: {df.shape[0]} rows \\nThe store data has: {df.shape[1]} columns\")"
   ]
  },
  {
   "cell_type": "code",
   "execution_count": 39,
   "id": "95d0b14b",
   "metadata": {},
   "outputs": [],
   "source": [
    "\n",
    "# Convert DataFrame to list of transactions\n",
    "transactions = []\n",
    "for i in range(len(df)):\n",
    "    transactions.append([str(item) for item in df.iloc[i].dropna()])\n"
   ]
  },
  {
   "cell_type": "code",
   "execution_count": 40,
   "id": "084c51b0",
   "metadata": {},
   "outputs": [],
   "source": [
    "# Encode Transactions\n",
    "te = TransactionEncoder()\n",
    "te_ary = te.fit(transactions).transform(transactions)\n",
    "df_encoded = pd.DataFrame(te_ary, columns=te.columns_)"
   ]
  },
  {
   "cell_type": "code",
   "execution_count": 41,
   "id": "2acf415d",
   "metadata": {},
   "outputs": [
    {
     "name": "stdout",
     "output_type": "stream",
     "text": [
      "Frequent Itemsets:\n",
      "       support                    itemsets\n",
      "0    0.378738                     (bread)\n",
      "1    0.455150                    (butter)\n",
      "2    0.315615                    (cereal)\n",
      "3    0.365449                    (cheese)\n",
      "4    0.365449                     (chips)\n",
      "..        ...                         ...\n",
      "200  0.026578          (jam, juice, milk)\n",
      "201  0.029900        (jam, yogurt, juice)\n",
      "202  0.046512         (jam, yogurt, milk)\n",
      "203  0.033223       (yogurt, juice, milk)\n",
      "204  0.023256  (jam, yogurt, chips, milk)\n",
      "\n",
      "[205 rows x 2 columns]\n"
     ]
    }
   ],
   "source": [
    "# Apply Apriori Algorithm\n",
    "frequent_itemsets = apriori(df_encoded, min_support=0.02, use_colnames=True)\n",
    "print(\"Frequent Itemsets:\\n\", frequent_itemsets)"
   ]
  },
  {
   "cell_type": "code",
   "execution_count": 42,
   "id": "15603745",
   "metadata": {},
   "outputs": [
    {
     "name": "stdout",
     "output_type": "stream",
     "text": [
      "\n",
      "Association Rules:\n",
      "        antecedents            consequents  antecedent support  \\\n",
      "0          (bread)                (chips)            0.378738   \n",
      "1          (chips)                (bread)            0.365449   \n",
      "2          (bread)               (yogurt)            0.378738   \n",
      "3         (yogurt)                (bread)            0.295681   \n",
      "4         (cereal)               (butter)            0.315615   \n",
      "..             ...                    ...                 ...   \n",
      "129  (chips, milk)          (jam, yogurt)            0.132890   \n",
      "130          (jam)  (yogurt, chips, milk)            0.358804   \n",
      "131       (yogurt)     (jam, chips, milk)            0.295681   \n",
      "132        (chips)    (jam, yogurt, milk)            0.365449   \n",
      "133         (milk)   (jam, yogurt, chips)            0.375415   \n",
      "\n",
      "     consequent support   support  confidence      lift  representativity  \\\n",
      "0              0.365449  0.139535    0.368421  1.008134               1.0   \n",
      "1              0.378738  0.139535    0.381818  1.008134               1.0   \n",
      "2              0.295681  0.119601    0.315789  1.068007               1.0   \n",
      "3              0.378738  0.119601    0.404494  1.068007               1.0   \n",
      "4              0.455150  0.146179    0.463158  1.017595               1.0   \n",
      "..                  ...       ...         ...       ...               ...   \n",
      "129            0.096346  0.023256    0.175000  1.816379               1.0   \n",
      "130            0.046512  0.023256    0.064815  1.393519               1.0   \n",
      "131            0.039867  0.023256    0.078652  1.972846               1.0   \n",
      "132            0.046512  0.023256    0.063636  1.368182               1.0   \n",
      "133            0.033223  0.023256    0.061947  1.864602               1.0   \n",
      "\n",
      "     leverage  conviction  zhangs_metric   jaccard  certainty  kulczynski  \n",
      "0    0.001126    1.004707       0.012987  0.230769   0.004684    0.375120  \n",
      "1    0.001126    1.004983       0.012715  0.230769   0.004959    0.375120  \n",
      "2    0.007616    1.029389       0.102496  0.215569   0.028550    0.360142  \n",
      "3    0.007616    1.043252       0.090409  0.215569   0.041459    0.360142  \n",
      "4    0.002528    1.014918       0.025265  0.234043   0.014698    0.392163  \n",
      "..        ...         ...            ...       ...        ...         ...  \n",
      "129  0.010452    1.095339       0.518336  0.112903   0.087040    0.208190  \n",
      "130  0.006567    1.019572       0.440415  0.060870   0.019196    0.282407  \n",
      "131  0.011468    1.042095       0.700135  0.074468   0.040395    0.330993  \n",
      "132  0.006258    1.018289       0.424084  0.059829   0.017960    0.281818  \n",
      "133  0.010784    1.030621       0.742401  0.060345   0.029711    0.380973  \n",
      "\n",
      "[134 rows x 14 columns]\n"
     ]
    }
   ],
   "source": [
    "# Generate Association Rules\n",
    "rules = association_rules(frequent_itemsets, metric=\"lift\", min_threshold=1.0)\n",
    "print(\"\\nAssociation Rules:\\n\", rules)\n"
   ]
  },
  {
   "cell_type": "code",
   "execution_count": null,
   "id": "36918829",
   "metadata": {},
   "outputs": [],
   "source": []
  }
 ],
 "metadata": {
  "kernelspec": {
   "display_name": "Python 3 (ipykernel)",
   "language": "python",
   "name": "python3"
  },
  "language_info": {
   "codemirror_mode": {
    "name": "ipython",
    "version": 3
   },
   "file_extension": ".py",
   "mimetype": "text/x-python",
   "name": "python",
   "nbconvert_exporter": "python",
   "pygments_lexer": "ipython3",
   "version": "3.12.4"
  }
 },
 "nbformat": 4,
 "nbformat_minor": 5
}
